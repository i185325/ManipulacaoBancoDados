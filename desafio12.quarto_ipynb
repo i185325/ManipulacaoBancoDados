{
  "cells": [
    {
      "cell_type": "markdown",
      "metadata": {},
      "source": [
        "---\n",
        "title: \"desafio12\"\n",
        "format: html\n",
        "editor: visual\n",
        "---"
      ],
      "id": "4d0f87ec"
    },
    {
      "cell_type": "code",
      "metadata": {},
      "source": [
        "import polars as pl\n",
        "import sqlite3"
      ],
      "id": "396c1e31",
      "execution_count": null,
      "outputs": []
    },
    {
      "cell_type": "code",
      "metadata": {},
      "source": [
        "conn = sqlite3.connect('//smb/ra185325/Documentos/dados/data.db')\n",
        "cursor = conn.cursor()"
      ],
      "id": "aae3a132",
      "execution_count": null,
      "outputs": []
    },
    {
      "cell_type": "code",
      "metadata": {},
      "source": [
        "cursor.execute('''\n",
        "CREATE TABLE vendas (\n",
        "    id INTEGER PRIMARY KEY,\n",
        "    vendedor TEXT,\n",
        "    produto TEXT,\n",
        "    valor REAL,\n",
        "    data_venda DATE\n",
        ")\n",
        "''')"
      ],
      "id": "05355b56",
      "execution_count": null,
      "outputs": []
    },
    {
      "cell_type": "code",
      "metadata": {},
      "source": [
        "cursor.execute('''\n",
        "INSERT INTO vendas (vendedor, produto, valor, data_venda)\n",
        "VALUES\n",
        "    ('Ana', 'Produto A', 120.5, '2024-09-01'),\n",
        "    ('Carlos', 'Produto B', 200.0, '2024-10-02'),\n",
        "    ('Ana', 'Produto C', 150.0, '2024-09-03'),\n",
        "    ('Bruno', 'Produto A', 300.0, '2024-11-04'),\n",
        "    ('Carlos', 'Produto C', 100.0, '2024-10-05');\n",
        "''')\n",
        "conn.commit()"
      ],
      "id": "debe0533",
      "execution_count": null,
      "outputs": []
    },
    {
      "cell_type": "code",
      "metadata": {},
      "source": [
        "cursor.execute(\"SELECT * FROM vendas\")\n",
        "rows = cursor.fetchall()\n",
        "for row in rows:\n",
        "  print(row)"
      ],
      "id": "29b86a15",
      "execution_count": null,
      "outputs": []
    },
    {
      "cell_type": "code",
      "metadata": {},
      "source": [
        "import polars as pl\n",
        "dados = pl.read_database(\"SELECT * FROM vendas\", conn)\n",
        "print(dados)"
      ],
      "id": "cf60aaa4",
      "execution_count": null,
      "outputs": []
    },
    {
      "cell_type": "code",
      "metadata": {},
      "source": [
        "vendas_total = pl.read_database('''\n",
        "   SELECT vendedor, SUM(valor) as total_vendas\n",
        "   FROM vendas\n",
        "   GROUP BY vendedor;\n",
        "''', conn)\n",
        "print(vendas_total)"
      ],
      "id": "c1904135",
      "execution_count": null,
      "outputs": []
    },
    {
      "cell_type": "code",
      "metadata": {},
      "source": [
        "vendas_medias = pl.read_database('''\n",
        "   SELECT vendedor, AVG(valor) as total_vendas\n",
        "   FROM vendas\n",
        "   GROUP BY vendedor;\n",
        "''', conn)\n",
        "print(vendas_medias)"
      ],
      "id": "995c5111",
      "execution_count": null,
      "outputs": []
    },
    {
      "cell_type": "code",
      "metadata": {},
      "source": [
        "vendas_comb = pl.read_database(\"\"\"\n",
        "SELECT vendedor, \n",
        "       COUNT(*) as numero_vendas,\n",
        "       SUM(valor) as total_vendas, \n",
        "       AVG(valor) as media_vendas\n",
        "FROM vendas\n",
        "GROUP BY vendedor;\n",
        "\"\"\", conn)"
      ],
      "id": "b796a494",
      "execution_count": null,
      "outputs": []
    },
    {
      "cell_type": "code",
      "metadata": {},
      "source": [
        "print(vendas_comb)"
      ],
      "id": "6f15adf2",
      "execution_count": null,
      "outputs": []
    },
    {
      "cell_type": "code",
      "metadata": {},
      "source": [
        "ticket_alto = pl.read_database(\"\"\"\n",
        "SELECT * FROM vendas WHERE valor >= 200\n",
        "\"\"\", conn)\n",
        "print(ticket_alto)"
      ],
      "id": "eeb8f29b",
      "execution_count": null,
      "outputs": []
    },
    {
      "cell_type": "code",
      "metadata": {},
      "source": [
        "vendas_mensais = pl.read_database(\"\"\"\n",
        "SELECT strftime('%Y-%m', data_venda) AS mes, SUM(valor) AS total_vendas\n",
        "FROM vendas GROUP BY mes ORDER BY mes\n",
        "\"\"\", conn)\n",
        "print(vendas_mensais)"
      ],
      "id": "81c4e207",
      "execution_count": null,
      "outputs": []
    },
    {
      "cell_type": "code",
      "metadata": {},
      "source": [
        "cursor.execute('''\n",
        "CREATE TABLE IF NOT EXISTS produtos (\n",
        "    id INTEGER PRIMARY KEY,\n",
        "    nome TEXT NOT NULL,\n",
        "    categoria TEXT NOT NULL,\n",
        "    preco REAL NOT NULL,\n",
        "    estoque INTEGER NOT NULL\n",
        ");\n",
        "''')\n",
        "cursor.execute('''\n",
        "INSERT INTO produtos (nome, categoria, preco, estoque) VALUES\n",
        "    ('Produto A', 'Categoria 1', 100.0, 50),\n",
        "    ('Produto B', 'Categoria 2', 150.0, 30),\n",
        "    ('Produto C', 'Categoria 1', 200.0, 20),\n",
        "    ('Produto D', 'Categoria 2', 250.0, 10),\n",
        "    ('Produto E', 'Categoria 3', 300.0, 0);\n",
        "''')\n",
        "conn.commit()"
      ],
      "id": "673ba0c4",
      "execution_count": null,
      "outputs": []
    },
    {
      "cell_type": "code",
      "metadata": {},
      "source": [
        "prods = pl.read_database(\"SELECT * FROM produtos\", conn)\n",
        "print(prods)"
      ],
      "id": "9f61d17b",
      "execution_count": null,
      "outputs": []
    },
    {
      "cell_type": "code",
      "metadata": {},
      "source": [
        "lucros = pl.read_database(\"\"\"\n",
        "SELECT produto, valor AS compra, preco AS venda, preco-valor AS lucro\n",
        "FROM vendas\n",
        "INNER JOIN produtos ON vendas.produto = produtos.nome\n",
        "\"\"\", conn)\n",
        "print(lucros)"
      ],
      "id": "668ad050",
      "execution_count": null,
      "outputs": []
    },
    {
      "cell_type": "code",
      "metadata": {},
      "source": [
        "lucro_medio = pl.read_database(\"\"\"\n",
        "SELECT vendedor, produto, AVG(preco-valor) AS lucro_medio\n",
        "FROM vendas\n",
        "INNER JOIN produtos ON vendas.produto = produtos.nome\n",
        "GROUP BY vendedor\n",
        "\"\"\", conn)\n",
        "print(lucro_medio)"
      ],
      "id": "50ffd058",
      "execution_count": null,
      "outputs": []
    },
    {
      "cell_type": "code",
      "metadata": {},
      "source": [
        "from datetime import datetime\n",
        "\n",
        "# Pega a data and hora atuais e formata para um texto legível\n",
        "timestamp = datetime.now().strftime(\"%d/%m/%Y %H:%M:%S\")\n",
        "\n",
        "print(f\"Arquivo compilado em: {timestamp}\")"
      ],
      "id": "5139220a",
      "execution_count": null,
      "outputs": []
    }
  ],
  "metadata": {
    "kernelspec": {
      "display_name": "Python 3",
      "language": "python",
      "name": "python3"
    }
  },
  "nbformat": 4,
  "nbformat_minor": 5
}